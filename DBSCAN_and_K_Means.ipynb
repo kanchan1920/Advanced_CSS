{
  "nbformat": 4,
  "nbformat_minor": 0,
  "metadata": {
    "colab": {
      "provenance": [],
      "include_colab_link": true
    },
    "kernelspec": {
      "name": "python3",
      "display_name": "Python 3"
    },
    "language_info": {
      "name": "python"
    }
  },
  "cells": [
    {
      "cell_type": "markdown",
      "metadata": {
        "id": "view-in-github",
        "colab_type": "text"
      },
      "source": [
        "<a href=\"https://colab.research.google.com/github/kanchan1920/Advanced_CSS/blob/main/DBSCAN_and_K_Means.ipynb\" target=\"_parent\"><img src=\"https://colab.research.google.com/assets/colab-badge.svg\" alt=\"Open In Colab\"/></a>"
      ]
    },
    {
      "cell_type": "code",
      "source": [
        "! git clone https://github.com/kanchan1920/Machine-Learning-based-Hyperspectral-Image-Analysis.git"
      ],
      "metadata": {
        "id": "kUIS4lJhMVO-",
        "outputId": "422103e6-ade9-4716-dd99-f44960e75ce3",
        "colab": {
          "base_uri": "https://localhost:8080/"
        }
      },
      "execution_count": 5,
      "outputs": [
        {
          "output_type": "stream",
          "name": "stdout",
          "text": [
            "Cloning into 'Machine-Learning-based-Hyperspectral-Image-Analysis'...\n",
            "remote: Enumerating objects: 3, done.\u001b[K\n",
            "remote: Counting objects: 100% (3/3), done.\u001b[K\n",
            "remote: Compressing objects: 100% (2/2), done.\u001b[K\n",
            "remote: Total 3 (delta 0), reused 0 (delta 0), pack-reused 0\u001b[K\n",
            "Receiving objects: 100% (3/3), done.\n"
          ]
        }
      ]
    },
    {
      "cell_type": "code",
      "execution_count": 1,
      "metadata": {
        "id": "D2lfxJk-TGPu"
      },
      "outputs": [],
      "source": [
        "import numpy as np\n",
        "import cv2\n",
        "import pandas as pd\n",
        "import matplotlib.pyplot as plt\n",
        "from sklearn.cluster import KMeans\n",
        "# from sklearn_extra.cluster import KMedoids\n",
        "from sklearn.cluster import DBSCAN\n",
        "from google.colab.patches import cv2_imshow\n",
        "import math"
      ]
    },
    {
      "cell_type": "code",
      "source": [
        "import warnings\n",
        "warnings.filterwarnings(\"ignore\")"
      ],
      "metadata": {
        "id": "JCnUp3E5TYOz"
      },
      "execution_count": 6,
      "outputs": []
    },
    {
      "cell_type": "code",
      "source": [
        "inputName='BHP200506133026.jpg'\n",
        "img = cv2.imread(inputName)\n",
        "plt.imshow(img)"
      ],
      "metadata": {
        "colab": {
          "base_uri": "https://localhost:8080/",
          "height": 757
        },
        "id": "9tqy6DLETZv8",
        "outputId": "ea443a02-7ada-4d80-d9db-5ce7c3140b10"
      },
      "execution_count": 7,
      "outputs": [
        {
          "output_type": "error",
          "ename": "TypeError",
          "evalue": "Image data of dtype object cannot be converted to float",
          "traceback": [
            "\u001b[0;31m---------------------------------------------------------------------------\u001b[0m",
            "\u001b[0;31mTypeError\u001b[0m                                 Traceback (most recent call last)",
            "\u001b[0;32m<ipython-input-7-09ead9c3cbfa>\u001b[0m in \u001b[0;36m<cell line: 3>\u001b[0;34m()\u001b[0m\n\u001b[1;32m      1\u001b[0m \u001b[0minputName\u001b[0m\u001b[0;34m=\u001b[0m\u001b[0;34m'BHP200506133026.jpg'\u001b[0m\u001b[0;34m\u001b[0m\u001b[0;34m\u001b[0m\u001b[0m\n\u001b[1;32m      2\u001b[0m \u001b[0mimg\u001b[0m \u001b[0;34m=\u001b[0m \u001b[0mcv2\u001b[0m\u001b[0;34m.\u001b[0m\u001b[0mimread\u001b[0m\u001b[0;34m(\u001b[0m\u001b[0minputName\u001b[0m\u001b[0;34m)\u001b[0m\u001b[0;34m\u001b[0m\u001b[0;34m\u001b[0m\u001b[0m\n\u001b[0;32m----> 3\u001b[0;31m \u001b[0mplt\u001b[0m\u001b[0;34m.\u001b[0m\u001b[0mimshow\u001b[0m\u001b[0;34m(\u001b[0m\u001b[0mimg\u001b[0m\u001b[0;34m)\u001b[0m\u001b[0;34m\u001b[0m\u001b[0;34m\u001b[0m\u001b[0m\n\u001b[0m",
            "\u001b[0;32m/usr/local/lib/python3.10/dist-packages/matplotlib/pyplot.py\u001b[0m in \u001b[0;36mimshow\u001b[0;34m(X, cmap, norm, aspect, interpolation, alpha, vmin, vmax, origin, extent, interpolation_stage, filternorm, filterrad, resample, url, data, **kwargs)\u001b[0m\n\u001b[1;32m   2693\u001b[0m         \u001b[0minterpolation_stage\u001b[0m\u001b[0;34m=\u001b[0m\u001b[0;32mNone\u001b[0m\u001b[0;34m,\u001b[0m \u001b[0mfilternorm\u001b[0m\u001b[0;34m=\u001b[0m\u001b[0;32mTrue\u001b[0m\u001b[0;34m,\u001b[0m \u001b[0mfilterrad\u001b[0m\u001b[0;34m=\u001b[0m\u001b[0;36m4.0\u001b[0m\u001b[0;34m,\u001b[0m\u001b[0;34m\u001b[0m\u001b[0;34m\u001b[0m\u001b[0m\n\u001b[1;32m   2694\u001b[0m         resample=None, url=None, data=None, **kwargs):\n\u001b[0;32m-> 2695\u001b[0;31m     __ret = gca().imshow(\n\u001b[0m\u001b[1;32m   2696\u001b[0m         \u001b[0mX\u001b[0m\u001b[0;34m,\u001b[0m \u001b[0mcmap\u001b[0m\u001b[0;34m=\u001b[0m\u001b[0mcmap\u001b[0m\u001b[0;34m,\u001b[0m \u001b[0mnorm\u001b[0m\u001b[0;34m=\u001b[0m\u001b[0mnorm\u001b[0m\u001b[0;34m,\u001b[0m \u001b[0maspect\u001b[0m\u001b[0;34m=\u001b[0m\u001b[0maspect\u001b[0m\u001b[0;34m,\u001b[0m\u001b[0;34m\u001b[0m\u001b[0;34m\u001b[0m\u001b[0m\n\u001b[1;32m   2697\u001b[0m         \u001b[0minterpolation\u001b[0m\u001b[0;34m=\u001b[0m\u001b[0minterpolation\u001b[0m\u001b[0;34m,\u001b[0m \u001b[0malpha\u001b[0m\u001b[0;34m=\u001b[0m\u001b[0malpha\u001b[0m\u001b[0;34m,\u001b[0m \u001b[0mvmin\u001b[0m\u001b[0;34m=\u001b[0m\u001b[0mvmin\u001b[0m\u001b[0;34m,\u001b[0m\u001b[0;34m\u001b[0m\u001b[0;34m\u001b[0m\u001b[0m\n",
            "\u001b[0;32m/usr/local/lib/python3.10/dist-packages/matplotlib/__init__.py\u001b[0m in \u001b[0;36minner\u001b[0;34m(ax, data, *args, **kwargs)\u001b[0m\n\u001b[1;32m   1440\u001b[0m     \u001b[0;32mdef\u001b[0m \u001b[0minner\u001b[0m\u001b[0;34m(\u001b[0m\u001b[0max\u001b[0m\u001b[0;34m,\u001b[0m \u001b[0;34m*\u001b[0m\u001b[0margs\u001b[0m\u001b[0;34m,\u001b[0m \u001b[0mdata\u001b[0m\u001b[0;34m=\u001b[0m\u001b[0;32mNone\u001b[0m\u001b[0;34m,\u001b[0m \u001b[0;34m**\u001b[0m\u001b[0mkwargs\u001b[0m\u001b[0;34m)\u001b[0m\u001b[0;34m:\u001b[0m\u001b[0;34m\u001b[0m\u001b[0;34m\u001b[0m\u001b[0m\n\u001b[1;32m   1441\u001b[0m         \u001b[0;32mif\u001b[0m \u001b[0mdata\u001b[0m \u001b[0;32mis\u001b[0m \u001b[0;32mNone\u001b[0m\u001b[0;34m:\u001b[0m\u001b[0;34m\u001b[0m\u001b[0;34m\u001b[0m\u001b[0m\n\u001b[0;32m-> 1442\u001b[0;31m             \u001b[0;32mreturn\u001b[0m \u001b[0mfunc\u001b[0m\u001b[0;34m(\u001b[0m\u001b[0max\u001b[0m\u001b[0;34m,\u001b[0m \u001b[0;34m*\u001b[0m\u001b[0mmap\u001b[0m\u001b[0;34m(\u001b[0m\u001b[0msanitize_sequence\u001b[0m\u001b[0;34m,\u001b[0m \u001b[0margs\u001b[0m\u001b[0;34m)\u001b[0m\u001b[0;34m,\u001b[0m \u001b[0;34m**\u001b[0m\u001b[0mkwargs\u001b[0m\u001b[0;34m)\u001b[0m\u001b[0;34m\u001b[0m\u001b[0;34m\u001b[0m\u001b[0m\n\u001b[0m\u001b[1;32m   1443\u001b[0m \u001b[0;34m\u001b[0m\u001b[0m\n\u001b[1;32m   1444\u001b[0m         \u001b[0mbound\u001b[0m \u001b[0;34m=\u001b[0m \u001b[0mnew_sig\u001b[0m\u001b[0;34m.\u001b[0m\u001b[0mbind\u001b[0m\u001b[0;34m(\u001b[0m\u001b[0max\u001b[0m\u001b[0;34m,\u001b[0m \u001b[0;34m*\u001b[0m\u001b[0margs\u001b[0m\u001b[0;34m,\u001b[0m \u001b[0;34m**\u001b[0m\u001b[0mkwargs\u001b[0m\u001b[0;34m)\u001b[0m\u001b[0;34m\u001b[0m\u001b[0;34m\u001b[0m\u001b[0m\n",
            "\u001b[0;32m/usr/local/lib/python3.10/dist-packages/matplotlib/axes/_axes.py\u001b[0m in \u001b[0;36mimshow\u001b[0;34m(self, X, cmap, norm, aspect, interpolation, alpha, vmin, vmax, origin, extent, interpolation_stage, filternorm, filterrad, resample, url, **kwargs)\u001b[0m\n\u001b[1;32m   5663\u001b[0m                               **kwargs)\n\u001b[1;32m   5664\u001b[0m \u001b[0;34m\u001b[0m\u001b[0m\n\u001b[0;32m-> 5665\u001b[0;31m         \u001b[0mim\u001b[0m\u001b[0;34m.\u001b[0m\u001b[0mset_data\u001b[0m\u001b[0;34m(\u001b[0m\u001b[0mX\u001b[0m\u001b[0;34m)\u001b[0m\u001b[0;34m\u001b[0m\u001b[0;34m\u001b[0m\u001b[0m\n\u001b[0m\u001b[1;32m   5666\u001b[0m         \u001b[0mim\u001b[0m\u001b[0;34m.\u001b[0m\u001b[0mset_alpha\u001b[0m\u001b[0;34m(\u001b[0m\u001b[0malpha\u001b[0m\u001b[0;34m)\u001b[0m\u001b[0;34m\u001b[0m\u001b[0;34m\u001b[0m\u001b[0m\n\u001b[1;32m   5667\u001b[0m         \u001b[0;32mif\u001b[0m \u001b[0mim\u001b[0m\u001b[0;34m.\u001b[0m\u001b[0mget_clip_path\u001b[0m\u001b[0;34m(\u001b[0m\u001b[0;34m)\u001b[0m \u001b[0;32mis\u001b[0m \u001b[0;32mNone\u001b[0m\u001b[0;34m:\u001b[0m\u001b[0;34m\u001b[0m\u001b[0;34m\u001b[0m\u001b[0m\n",
            "\u001b[0;32m/usr/local/lib/python3.10/dist-packages/matplotlib/image.py\u001b[0m in \u001b[0;36mset_data\u001b[0;34m(self, A)\u001b[0m\n\u001b[1;32m    699\u001b[0m         if (self._A.dtype != np.uint8 and\n\u001b[1;32m    700\u001b[0m                 not np.can_cast(self._A.dtype, float, \"same_kind\")):\n\u001b[0;32m--> 701\u001b[0;31m             raise TypeError(\"Image data of dtype {} cannot be converted to \"\n\u001b[0m\u001b[1;32m    702\u001b[0m                             \"float\".format(self._A.dtype))\n\u001b[1;32m    703\u001b[0m \u001b[0;34m\u001b[0m\u001b[0m\n",
            "\u001b[0;31mTypeError\u001b[0m: Image data of dtype object cannot be converted to float"
          ]
        },
        {
          "output_type": "display_data",
          "data": {
            "text/plain": [
              "<Figure size 640x480 with 1 Axes>"
            ],
            "image/png": "[encoded data removed]"
          },
          "metadata": {}
        }
      ]
    },
    {
      "cell_type": "code",
      "source": [
        "img = cv2.cvtColor(img, cv2.COLOR_BGR2RGB)\n",
        "plt.imshow(img)"
      ],
      "metadata": {
        "colab": {
          "base_uri": "https://localhost:8080/",
          "height": 176
        },
        "id": "hIeDRDokTbeh",
        "outputId": "f2b5a705-fef1-4963-fb80-cc41b563bddb"
      },
      "execution_count": 8,
      "outputs": [
        {
          "output_type": "error",
          "ename": "error",
          "evalue": "OpenCV(4.10.0) /io/opencv/modules/imgproc/src/color.cpp:196: error: (-215:Assertion failed) !_src.empty() in function 'cvtColor'\n",
          "traceback": [
            "\u001b[0;31m---------------------------------------------------------------------------\u001b[0m",
            "\u001b[0;31merror\u001b[0m                                     Traceback (most recent call last)",
            "\u001b[0;32m<ipython-input-8-21f16fc8e901>\u001b[0m in \u001b[0;36m<cell line: 1>\u001b[0;34m()\u001b[0m\n\u001b[0;32m----> 1\u001b[0;31m \u001b[0mimg\u001b[0m \u001b[0;34m=\u001b[0m \u001b[0mcv2\u001b[0m\u001b[0;34m.\u001b[0m\u001b[0mcvtColor\u001b[0m\u001b[0;34m(\u001b[0m\u001b[0mimg\u001b[0m\u001b[0;34m,\u001b[0m \u001b[0mcv2\u001b[0m\u001b[0;34m.\u001b[0m\u001b[0mCOLOR_BGR2RGB\u001b[0m\u001b[0;34m)\u001b[0m\u001b[0;34m\u001b[0m\u001b[0;34m\u001b[0m\u001b[0m\n\u001b[0m\u001b[1;32m      2\u001b[0m \u001b[0mplt\u001b[0m\u001b[0;34m.\u001b[0m\u001b[0mimshow\u001b[0m\u001b[0;34m(\u001b[0m\u001b[0mimg\u001b[0m\u001b[0;34m)\u001b[0m\u001b[0;34m\u001b[0m\u001b[0;34m\u001b[0m\u001b[0m\n",
            "\u001b[0;31merror\u001b[0m: OpenCV(4.10.0) /io/opencv/modules/imgproc/src/color.cpp:196: error: (-215:Assertion failed) !_src.empty() in function 'cvtColor'\n"
          ]
        }
      ]
    },
    {
      "cell_type": "code",
      "source": [
        "print(img.shape)\n",
        "d1 = img.shape[0]\n",
        "d2 = img.shape[1]"
      ],
      "metadata": {
        "colab": {
          "base_uri": "https://localhost:8080/"
        },
        "id": "MzN1ku5_Tdiy",
        "outputId": "b693ea1c-dac9-4c0b-fca7-cedf954c8b4f"
      },
      "execution_count": null,
      "outputs": [
        {
          "output_type": "stream",
          "name": "stdout",
          "text": [
            "(250, 250, 3)\n"
          ]
        }
      ]
    },
    {
      "cell_type": "code",
      "source": [
        "img = img.reshape((d1*d2, 3))\n",
        "img = pd.DataFrame(img)\n",
        "x = []\n",
        "y = []\n",
        "\n",
        "for i in range(d1):\n",
        "  for j in range(d2):\n",
        "    x.append(i)\n",
        "    y.append(j)\n",
        "img['x'] = x\n",
        "img['y'] = y"
      ],
      "metadata": {
        "id": "hNkXymvXTfJ-"
      },
      "execution_count": null,
      "outputs": []
    },
    {
      "cell_type": "code",
      "source": [
        "img.rename(columns ={0:'0',1:'1',2:'2'},inplace=True)"
      ],
      "metadata": {
        "id": "DBmtggO4T2oK"
      },
      "execution_count": null,
      "outputs": []
    },
    {
      "cell_type": "code",
      "source": [
        "db = DBSCAN(eps=6, min_samples=2)\n",
        "Y_prediction = db.fit_predict(img[['0', '1', '2','x','y']])\n",
        "Y_prediction"
      ],
      "metadata": {
        "colab": {
          "base_uri": "https://localhost:8080/"
        },
        "id": "qe8NoQpLTiyJ",
        "outputId": "90d96979-c9f9-442e-b447-209c4b91e7a7"
      },
      "execution_count": null,
      "outputs": [
        {
          "output_type": "execute_result",
          "data": {
            "text/plain": [
              "array([0, 0, 0, ..., 0, 0, 0])"
            ]
          },
          "metadata": {},
          "execution_count": 8
        }
      ]
    },
    {
      "cell_type": "code",
      "source": [
        "img['dbscan']=Y_prediction"
      ],
      "metadata": {
        "id": "WQf2Emo9TpEt"
      },
      "execution_count": null,
      "outputs": []
    },
    {
      "cell_type": "code",
      "source": [
        "plt.imshow(np.uint8((np.array(Y_prediction).reshape(d1, d2))))\n",
        "plt.set_cmap(\"tab20c\")\n",
        "plt.show()"
      ],
      "metadata": {
        "colab": {
          "base_uri": "https://localhost:8080/",
          "height": 435
        },
        "id": "cC962PTJTnoy",
        "outputId": "8ce3a680-958c-4465-eac9-d746984abaa0"
      },
      "execution_count": null,
      "outputs": [
        {
          "output_type": "display_data",
          "data": {
            "text/plain": [
              "<Figure size 640x480 with 1 Axes>"
            ],
            "image/png": "[encoded data removed]"
          },
          "metadata": {}
        }
      ]
    },
    {
      "cell_type": "code",
      "source": [
        "KMeans = KMeans(n_clusters=200,random_state=43)\n",
        "temp_result = KMeans.fit(img[['0','1','2','x','y']])\n",
        "labels = KMeans.labels_"
      ],
      "metadata": {
        "id": "cjjU4Eu6U1Yx"
      },
      "execution_count": null,
      "outputs": []
    },
    {
      "cell_type": "code",
      "source": [
        "plt.imshow(np.uint8((np.array(labels).reshape(d1, d2))))\n",
        "plt.set_cmap(\"tab20c\")\n",
        "plt.show()"
      ],
      "metadata": {
        "colab": {
          "base_uri": "https://localhost:8080/",
          "height": 435
        },
        "id": "f0B1lOnaVlxa",
        "outputId": "e4a16d89-7aa5-43e8-deb4-0bd96aee66cd"
      },
      "execution_count": null,
      "outputs": [
        {
          "output_type": "display_data",
          "data": {
            "text/plain": [
              "<Figure size 640x480 with 1 Axes>"
            ],
            "image/png": "[encoded data removed]"
          },
          "metadata": {}
        }
      ]
    },
    {
      "cell_type": "code",
      "source": [
        "img['kmeans']=labels"
      ],
      "metadata": {
        "id": "qASgCsWKVtSG"
      },
      "execution_count": null,
      "outputs": []
    },
    {
      "cell_type": "code",
      "source": [
        "img"
      ],
      "metadata": {
        "colab": {
          "base_uri": "https://localhost:8080/",
          "height": 423
        },
        "id": "z2NIZI48Vxiv",
        "outputId": "8904dd18-f5e4-484f-b67a-f42d879a5194"
      },
      "execution_count": null,
      "outputs": [
        {
          "output_type": "execute_result",
          "data": {
            "text/plain": [
              "       0  1  2    x    y  dbscan  kmeans\n",
              "0      0  0  0    0    0       0      75\n",
              "1      0  0  0    0    1       0      75\n",
              "2      0  0  0    0    2       0      75\n",
              "3      0  0  0    0    3       0      75\n",
              "4      0  0  0    0    4       0      75\n",
              "...   .. .. ..  ...  ...     ...     ...\n",
              "62495  0  0  0  249  245       0     114\n",
              "62496  0  0  0  249  246       0     114\n",
              "62497  0  0  0  249  247       0     114\n",
              "62498  0  0  0  249  248       0     114\n",
              "62499  0  0  0  249  249       0     114\n",
              "\n",
              "[62500 rows x 7 columns]"
            ],
            "text/html": [
              "\n",
              "  <div id=\"df-00ba0d51-6d27-4769-a77b-0ba4c003d9c5\">\n",
              "    <div class=\"colab-df-container\">\n",
              "      <div>\n",
              "<style scoped>\n",
              "    .dataframe tbody tr th:only-of-type {\n",
              "        vertical-align: middle;\n",
              "    }\n",
              "\n",
              "    .dataframe tbody tr th {\n",
              "        vertical-align: top;\n",
              "    }\n",
              "\n",
              "    .dataframe thead th {\n",
              "        text-align: right;\n",
              "    }\n",
              "</style>\n",
              "<table border=\"1\" class=\"dataframe\">\n",
              "  <thead>\n",
              "    <tr style=\"text-align: right;\">\n",
              "      <th></th>\n",
              "      <th>0</th>\n",
              "      <th>1</th>\n",
              "      <th>2</th>\n",
              "      <th>x</th>\n",
              "      <th>y</th>\n",
              "      <th>dbscan</th>\n",
              "      <th>kmeans</th>\n",
              "    </tr>\n",
              "  </thead>\n",
              "  <tbody>\n",
              "    <tr>\n",
              "      <th>0</th>\n",
              "      <td>0</td>\n",
              "      <td>0</td>\n",
              "      <td>0</td>\n",
              "      <td>0</td>\n",
              "      <td>0</td>\n",
              "      <td>0</td>\n",
              "      <td>75</td>\n",
              "    </tr>\n",
              "    <tr>\n",
              "      <th>1</th>\n",
              "      <td>0</td>\n",
              "      <td>0</td>\n",
              "      <td>0</td>\n",
              "      <td>0</td>\n",
              "      <td>1</td>\n",
              "      <td>0</td>\n",
              "      <td>75</td>\n",
              "    </tr>\n",
              "    <tr>\n",
              "      <th>2</th>\n",
              "      <td>0</td>\n",
              "      <td>0</td>\n",
              "      <td>0</td>\n",
              "      <td>0</td>\n",
              "      <td>2</td>\n",
              "      <td>0</td>\n",
              "      <td>75</td>\n",
              "    </tr>\n",
              "    <tr>\n",
              "      <th>3</th>\n",
              "      <td>0</td>\n",
              "      <td>0</td>\n",
              "      <td>0</td>\n",
              "      <td>0</td>\n",
              "      <td>3</td>\n",
              "      <td>0</td>\n",
              "      <td>75</td>\n",
              "    </tr>\n",
              "    <tr>\n",
              "      <th>4</th>\n",
              "      <td>0</td>\n",
              "      <td>0</td>\n",
              "      <td>0</td>\n",
              "      <td>0</td>\n",
              "      <td>4</td>\n",
              "      <td>0</td>\n",
              "      <td>75</td>\n",
              "    </tr>\n",
              "    <tr>\n",
              "      <th>...</th>\n",
              "      <td>...</td>\n",
              "      <td>...</td>\n",
              "      <td>...</td>\n",
              "      <td>...</td>\n",
              "      <td>...</td>\n",
              "      <td>...</td>\n",
              "      <td>...</td>\n",
              "    </tr>\n",
              "    <tr>\n",
              "      <th>62495</th>\n",
              "      <td>0</td>\n",
              "      <td>0</td>\n",
              "      <td>0</td>\n",
              "      <td>249</td>\n",
              "      <td>245</td>\n",
              "      <td>0</td>\n",
              "      <td>114</td>\n",
              "    </tr>\n",
              "    <tr>\n",
              "      <th>62496</th>\n",
              "      <td>0</td>\n",
              "      <td>0</td>\n",
              "      <td>0</td>\n",
              "      <td>249</td>\n",
              "      <td>246</td>\n",
              "      <td>0</td>\n",
              "      <td>114</td>\n",
              "    </tr>\n",
              "    <tr>\n",
              "      <th>62497</th>\n",
              "      <td>0</td>\n",
              "      <td>0</td>\n",
              "      <td>0</td>\n",
              "      <td>249</td>\n",
              "      <td>247</td>\n",
              "      <td>0</td>\n",
              "      <td>114</td>\n",
              "    </tr>\n",
              "    <tr>\n",
              "      <th>62498</th>\n",
              "      <td>0</td>\n",
              "      <td>0</td>\n",
              "      <td>0</td>\n",
              "      <td>249</td>\n",
              "      <td>248</td>\n",
              "      <td>0</td>\n",
              "      <td>114</td>\n",
              "    </tr>\n",
              "    <tr>\n",
              "      <th>62499</th>\n",
              "      <td>0</td>\n",
              "      <td>0</td>\n",
              "      <td>0</td>\n",
              "      <td>249</td>\n",
              "      <td>249</td>\n",
              "      <td>0</td>\n",
              "      <td>114</td>\n",
              "    </tr>\n",
              "  </tbody>\n",
              "</table>\n",
              "<p>62500 rows × 7 columns</p>\n",
              "</div>\n",
              "      <button class=\"colab-df-convert\" onclick=\"convertToInteractive('df-00ba0d51-6d27-4769-a77b-0ba4c003d9c5')\"\n",
              "              title=\"Convert this dataframe to an interactive table.\"\n",
              "              style=\"display:none;\">\n",
              "        \n",
              "  <svg xmlns=\"http://www.w3.org/2000/svg\" height=\"24px\"viewBox=\"0 0 24 24\"\n",
              "       width=\"24px\">\n",
              "    <path d=\"M0 0h24v24H0V0z\" fill=\"none\"/>\n",
              "    <path d=\"M18.56 5.44l.94 2.06.94-2.06 2.06-.94-2.06-.94-.94-2.06-.94 2.06-2.06.94zm-11 1L8.5 8.5l.94-2.06 2.06-.94-2.06-.94L8.5 2.5l-.94 2.06-2.06.94zm10 10l.94 2.06.94-2.06 2.06-.94-2.06-.94-.94-2.06-.94 2.06-2.06.94z\"/><path d=\"M17.41 7.96l-1.37-1.37c-.4-.4-.92-.59-1.43-.59-.52 0-1.04.2-1.43.59L10.3 9.45l-7.72 7.72c-.78.78-.78 2.05 0 2.83L4 21.41c.39.39.9.59 1.41.59.51 0 1.02-.2 1.41-.59l7.78-7.78 2.81-2.81c.8-.78.8-2.07 0-2.86zM5.41 20L4 18.59l7.72-7.72 1.47 1.35L5.41 20z\"/>\n",
              "  </svg>\n",
              "      </button>\n",
              "      \n",
              "  <style>\n",
              "    .colab-df-container {\n",
              "      display:flex;\n",
              "      flex-wrap:wrap;\n",
              "      gap: 12px;\n",
              "    }\n",
              "\n",
              "    .colab-df-convert {\n",
              "      background-color: #E8F0FE;\n",
              "      border: none;\n",
              "      border-radius: 50%;\n",
              "      cursor: pointer;\n",
              "      display: none;\n",
              "      fill: #1967D2;\n",
              "      height: 32px;\n",
              "      padding: 0 0 0 0;\n",
              "      width: 32px;\n",
              "    }\n",
              "\n",
              "    .colab-df-convert:hover {\n",
              "      background-color: #E2EBFA;\n",
              "      box-shadow: 0px 1px 2px rgba(60, 64, 67, 0.3), 0px 1px 3px 1px rgba(60, 64, 67, 0.15);\n",
              "      fill: #174EA6;\n",
              "    }\n",
              "\n",
              "    [theme=dark] .colab-df-convert {\n",
              "      background-color: #3B4455;\n",
              "      fill: #D2E3FC;\n",
              "    }\n",
              "\n",
              "    [theme=dark] .colab-df-convert:hover {\n",
              "      background-color: #434B5C;\n",
              "      box-shadow: 0px 1px 3px 1px rgba(0, 0, 0, 0.15);\n",
              "      filter: drop-shadow(0px 1px 2px rgba(0, 0, 0, 0.3));\n",
              "      fill: #FFFFFF;\n",
              "    }\n",
              "  </style>\n",
              "\n",
              "      <script>\n",
              "        const buttonEl =\n",
              "          document.querySelector('#df-00ba0d51-6d27-4769-a77b-0ba4c003d9c5 button.colab-df-convert');\n",
              "        buttonEl.style.display =\n",
              "          google.colab.kernel.accessAllowed ? 'block' : 'none';\n",
              "\n",
              "        async function convertToInteractive(key) {\n",
              "          const element = document.querySelector('#df-00ba0d51-6d27-4769-a77b-0ba4c003d9c5');\n",
              "          const dataTable =\n",
              "            await google.colab.kernel.invokeFunction('convertToInteractive',\n",
              "                                                     [key], {});\n",
              "          if (!dataTable) return;\n",
              "\n",
              "          const docLinkHtml = 'Like what you see? Visit the ' +\n",
              "            '<a target=\"_blank\" href=https://colab.research.google.com/notebooks/data_table.ipynb>data table notebook</a>'\n",
              "            + ' to learn more about interactive tables.';\n",
              "          element.innerHTML = '';\n",
              "          dataTable['output_type'] = 'display_data';\n",
              "          await google.colab.output.renderOutput(dataTable, element);\n",
              "          const docLink = document.createElement('div');\n",
              "          docLink.innerHTML = docLinkHtml;\n",
              "          element.appendChild(docLink);\n",
              "        }\n",
              "      </script>\n",
              "    </div>\n",
              "  </div>\n",
              "  "
            ]
          },
          "metadata": {},
          "execution_count": 14
        }
      ]
    },
    {
      "cell_type": "code",
      "source": [
        "img.to_csv('img.csv',index=False, encoding = 'utf-8-sig')"
      ],
      "metadata": {
        "id": "tjR9aDVyV1o9"
      },
      "execution_count": null,
      "outputs": []
    },
    {
      "cell_type": "code",
      "source": [
        "\"\"\" INTERNAL CLUSTERING INDICES\n",
        "\n",
        "1.  Within-class and between-class scatter values #\n",
        "2.  The Ball-Hall index ~\n",
        "\n",
        "3.  The Banfeld-Raftery index (min) ~#\n",
        "4.  The Calinski-Harabasz index     #\n",
        "\n",
        "5.  The Det Ratio index     ~\n",
        "6.  The Ksq DetW index  ~\n",
        "7.  The Log Det Ratio index     ~\n",
        "8.  The Log SS Ratio index      ~\n",
        "\n",
        "9.  The Scott-Symons index (min)    #\n",
        "10. The Silhouette index    #\n",
        "11. The Trace WiB index     ~\n",
        "\n",
        "12. C-index ~\n",
        "13. Dunn-index ~\n",
        "\n",
        "14. Davies-Bouldin index (min)  # (Recheck -- small differences)\n",
        "15. Ray-Turi index (min)    #\n",
        "\n",
        "16. Maulik-Bandyopadhyay index (PBM Index)  ~\n",
        "17. Score Function  ~\n",
        "\n",
        "18. Hartigan Index  ~\n",
        "\n",
        "Future Implementation\n",
        "\n",
        "The Ratkowsky-Lance index\n",
        "\n",
        "1. CPCC (Heirarchial classification)\n",
        "2. CDV Index: A Validity Index for Better Clustering Quality Measurement\n",
        "\n",
        "# Tested\n",
        "~ Code re-read for testing (unavailabilty of research papers for Testing)\n",
        "\"\"\"\n",
        "\n",
        "from itertools import combinations\n",
        "from math import sqrt, log\n",
        "# import warnings\n",
        "\n",
        "import numpy as np\n",
        "from sklearn import metrics\n",
        "from sklearn.cluster import KMeans\n",
        "# from sklearn.metrics.pairwise import euclidean_distances\n",
        "from sklearn.preprocessing import LabelEncoder\n",
        "\n",
        "\n",
        "# warnings.simplefilter(action='ignore', category=FutureWarning)\n",
        "# warnings.filterwarnings(\"ignore\", category=DeprecationWarning)\n",
        "\n",
        "\n",
        "class InternalIndices:\n",
        "\n",
        "    def __init__(self,data,labels,distance_matrix=None):\n",
        "\n",
        "        #normalising labels\n",
        "        le = LabelEncoder()\n",
        "        le.fit(labels)\n",
        "\n",
        "        #initialise class memebers\n",
        "        self.data=np.array(data)\n",
        "        '''Note: Treats noise as a seperate (K + 1 th) partition\n",
        "\n",
        "        References :    [1] https://stats.stackexchange.com/questions/291566/cluster-validation-of-incomplete-clustering-algorithms-esp-density-based-db\n",
        "        '''\n",
        "        self.labels=le.transform(labels)\n",
        "\n",
        "        self.n_samples=self.data.shape[0]\n",
        "        self.n_features=self.data.shape[1]\n",
        "\n",
        "        #compute mean of data\n",
        "        self.data_mean=np.mean(self.data,axis=0)\n",
        "\n",
        "        #self.n_clusters=np.unique([x for x in self.labels if x>=0]).shape[0] (to avoid noise)\n",
        "        self.n_clusters=np.unique(self.labels).shape[0]\n",
        "        self.clusters_mean = np.zeros((self.n_clusters,self.n_features))\n",
        "        self.clusters_size = np.zeros(self.n_clusters)\n",
        "\n",
        "        self.insignificant = 1/pow(10,20)\n",
        "        for cluster_label in range(self.n_clusters):\n",
        "            #if cluster_label >=0  (to avoid noise)\n",
        "            cluster_i_pts = (self.labels==cluster_label)\n",
        "            self.clusters_size[cluster_label] = np.sum(cluster_i_pts)\n",
        "            self.clusters_mean[cluster_label] = np.mean(self.data[cluster_i_pts],axis=0)\n",
        "\n",
        "        if distance_matrix is not None:\n",
        "            self.distance_matrix = distance_matrix\n",
        "\n",
        "        #print(self.clusters_mean)\n",
        "        self.compute_scatter_matrices()\n",
        "\n",
        "\n",
        "    def compute_scatter_matrices(self):\n",
        "        \"\"\"\n",
        "        References: [1] Clustering Indices, Bernard Desgraupes (April 2013)\n",
        "                    [2] http://sebastianraschka.com/Articles/2014_python_lda.html (Linear Discriminatory Analysis)\n",
        "                    [3] Chapter 4, Clustering -- RUI XU,DONALD C. WUNSCH, II (IEEE Press)\n",
        "\n",
        "        verified with data from References [2]\n",
        "        \"\"\"\n",
        "        self.T = total_scatter_matrix(self.data)\n",
        "\n",
        "        #WG_clusters : WG matrix for each cluster | WGSS_clusters : trace(WG matrix) for each cluster\n",
        "        self.WG_clusters = np.empty((self.n_clusters,self.n_features,self.n_features),dtype=np.float64)\n",
        "        self.WGSS_clusters = np.zeros(self.n_clusters,dtype=np.float64)\n",
        "\n",
        "        #self.BG = np.zeros((self.n_features,self.n_features),dtype=np.float64)\n",
        "\n",
        "        for cluster_label in range(self.n_clusters):\n",
        "            #compute within cluster matrix\n",
        "            self.WG_clusters[cluster_label] = total_scatter_matrix(self.data[self.labels==cluster_label])\n",
        "            self.WGSS_clusters[cluster_label] = np.trace(self.WG_clusters[cluster_label])\n",
        "\n",
        "        self.WGSS_clusters_non_zeros_indices = [i for i, e in enumerate(self.WGSS_clusters) if e != 0]\n",
        "\n",
        "        self.WGSS_clusters_non_zeros_indices_size = len(self.WGSS_clusters_non_zeros_indices)\n",
        "\n",
        "        #print(self.WGSS_clusters_non_zeros_indices_size)\n",
        "        self.WGSS_clusters_non_zeros_BR_index = np.zeros(self.WGSS_clusters_non_zeros_indices_size,dtype=np.float64)\n",
        "        self.clusters_size_BR_index = np.zeros(self.WGSS_clusters_non_zeros_indices_size,dtype=np.float64)\n",
        "        for cluster_index in range(self.WGSS_clusters_non_zeros_indices_size):\n",
        "            self.WGSS_clusters_non_zeros_BR_index[cluster_index] = self.WGSS_clusters[self.WGSS_clusters_non_zeros_indices[cluster_index]]\n",
        "            self.clusters_size_BR_index[cluster_index] = self.clusters_size[self.WGSS_clusters_non_zeros_indices[cluster_index]]\n",
        "\n",
        "            #compute between-cluster matrix\n",
        "            mean_vec = self.clusters_mean[cluster_label].reshape((self.n_features,1))\n",
        "            overall_mean = self.data_mean.reshape((self.n_features,1))\n",
        "\n",
        "            #self.BG += np.array(self.clusters_size[i]*(mean_vec - overall_mean).dot((mean_vec - overall_mean).T),dtype=np.float64)\n",
        "            #self.BG = self.BG + self.clusters_size[i]*np.dot(cluster_data_mean_diff.T,cluster_data_mean_diff)\n",
        "\n",
        "        self.WG = np.sum(self.WG_clusters,axis=0)\n",
        "\n",
        "        #print(self.WG)\n",
        "\n",
        "        self.WGSS = np.trace(self.WG)\n",
        "\n",
        "        self.BG = self.T - self.WG\n",
        "        #print(self.BG)\n",
        "\n",
        "        self.BGSS = np.trace(self.BG)\n",
        "\n",
        "        self.det_WG = np.linalg.det(self.WG)\n",
        "        self.det_T = np.linalg.det(self.T)\n",
        "\n",
        "\n",
        "    # internal indices -- start\n",
        "\n",
        "    def wgss_index(self):\n",
        "        return self.WGSS\n",
        "\n",
        "    def bgss_index(self):\n",
        "        return self.BGSS\n",
        "\n",
        "    def ball_hall_index(self):\n",
        "        \"\"\"\n",
        "        Ball Hall index -- mean, through all the clusters, of their mean dispersion\n",
        "        References: [1] Clustering Indices, Bernard Desgraupes (April 2013)\n",
        "        \"\"\"\n",
        "        sum_mean_disperions = 0.\n",
        "\n",
        "        for cluster_i in range(self.n_clusters):\n",
        "            sum_mean_disperions += self.WGSS_clusters[cluster_i] / self.clusters_size[cluster_i]\n",
        "\n",
        "        return sum_mean_disperions/self.n_clusters\n",
        "\n",
        "    #TODO : verify if denominator inside log is nk (total no. of pts) or nk.(nk-1)/2 (total pairs of points)\n",
        "    def banfeld_raftery_index(self):\n",
        "        \"\"\"Banfeld-Raftery index -- weighted sum of the logarithms of the traces of the variance-\n",
        "        covariance matrix of each cluster (rule: min)\n",
        "\n",
        "        References :    [1] Clustering Indices, Bernard Desgraupes (April 2013)\n",
        "                        [2] https://www.stat.washington.edu/raftery/Research/PDF/banfield1993.pdf\n",
        "\n",
        "        Tr(W G{k})/nk -- the mean of the squared distances between the points in cluster Ck and their barycenter G{k}.\n",
        "        If a cluster contains a single point, this trace is equal to 0 and the logarithm is undefined.\n",
        "\n",
        "        [2] Appropriate for hyperspherical clusters (may be of different sizes)\n",
        "        \"\"\"\n",
        "        #br_index = np.sum(self.clusters_size*np.log(self.WGSS_clusters/self.clusters_size))\n",
        "        br_index = np.sum(self.clusters_size_BR_index*np.log(self.WGSS_clusters_non_zeros_BR_index/self.clusters_size_BR_index))\n",
        "        return br_index\n",
        "\n",
        "    def  det_ratio_index(self):\n",
        "        \"\"\"The Determinant Ratio\n",
        "                Det_R =det(T)/det(WG).\n",
        "        \"\"\"\n",
        "        if(self.det_WG <= 0 or self.det_T <= 0):\n",
        "            print(\"replacing with insignificant\")\n",
        "            return self.insignificant\n",
        "        else:\n",
        "            return self.det_T/self.det_WG\n",
        "\n",
        "    def ksq_detw_index(self):\n",
        "        return self.n_clusters*self.n_clusters*self.det_WG\n",
        "\n",
        "\n",
        "    def log_det_ratio_index(self):\n",
        "        if(self.det_WG <= 0 or self.det_T <= 0):\n",
        "            print(\"replacing with insignificant\")\n",
        "            return self.insignificant\n",
        "        else:\n",
        "            # print(\"------------T and WG > 0 ------------------\")\n",
        "            #print(self.det_T)\n",
        "            #print(self.det_WG)\n",
        "            return self.n_samples * log(self.det_T/self.det_WG)\n",
        "\n",
        "    def log_ss_ratio_index(self):\n",
        "        return log(self.BGSS/self.WGSS)\n",
        "\n",
        "    def scott_symons_index(self):\n",
        "        \"\"\"\n",
        "        Scott-Symons Index -- weighted sum of the logarithms of the determinants of the variance-covariance matrix of each cluster\n",
        "        \"\"\"\n",
        "        scott_symons_index = 0.\n",
        "        for i in range(self.n_clusters):\n",
        "            scott_symons_index += self.clusters_size[i]*np.log(np.linalg.det(np.true_divide(self.WG_clusters[i],self.clusters_size[i])))\n",
        "\n",
        "        return scott_symons_index\n",
        "\n",
        "    def trace_wib_index(self):\n",
        "        \"\"\"\n",
        "        Trace WiB index -- Maximise (BG/WG), i.e., maximise BG and minimise WG\n",
        "        \"\"\"\n",
        "        if(self.det_WG <= 0  ):\n",
        "            print(\"replacing with insignificant because |WG| <= 0\")\n",
        "            return self.insignificant\n",
        "        else:\n",
        "            # print(\"------------T and |WG| > 0 ------------------\")\n",
        "            return np.trace(np.linalg.inv(self.WG).dot(self.BG))\n",
        "\n",
        "    def silhouette_score(self):\n",
        "        \"\"\"Silhouette score (sklearn)\n",
        "\n",
        "        Reference: [1] http://scikit-learn.org/stable/modules/generated/sklearn.metrics.silhouette_score.html#sklearn.metrics.silhouette_score\n",
        "        \"\"\"\n",
        "\n",
        "        #Experiments on silhoutte score -- Partitional Algorithms\n",
        "        # cluster_data_indices = np.empty((self.n_clusters,),dtype='O')\n",
        "\n",
        "        # for cluster_index in range(self.n_clusters):\n",
        "        #   cluster_data_indices[cluster_index] = list(np.where(self.labels==cluster_index))\n",
        "\n",
        "        # silhouette_coefs = np.zeros((self.n_samples,),dtype='d')\n",
        "        # for data_index in range(self.n_samples):\n",
        "        #   avg_intra_dist = euclidean_distances(self.data[[data_index]],self.data[cluster_data_indices[self.labels[data_index]]])[0]\n",
        "        #   ai = np.sum(avg_intra_dist)/(self.clusters_size[self.labels[data_index]]-1)\n",
        "\n",
        "        #   bi = np.float64('inf')\n",
        "        #   for cluster_index in range(self.n_clusters):\n",
        "        #       if cluster_index == self.labels[data_index]:\n",
        "        #           continue\n",
        "\n",
        "        #       avg_inter_dist = euclidean_distances(self.data[[data_index]],self.data[cluster_data_indices[cluster_index]])[0]\n",
        "        #       current_bi = np.mean(avg_inter_dist)\n",
        "\n",
        "        #       if current_bi < bi:\n",
        "        #           bi = current_bi\n",
        "\n",
        "        #   silhouette_coefs[data_index] = (bi - ai)/max(ai,bi)\n",
        "\n",
        "        # choosen_indices = list(np.where(silhouette_coefs > threshold))\n",
        "        # data = self.data[choosen_indices]\n",
        "\n",
        "        # cmap = sns.cubehelix_palette(as_cmap=True)\n",
        "\n",
        "        # f, ax = plt.subplots()\n",
        "        # points = ax.scatter(data.T[0], data.T[1], c=silhouette_coefs[choosen_indices], s=50, cmap=cmap)\n",
        "        # f.colorbar(points)\n",
        "        # plt.show()\n",
        "\n",
        "        #if return_indices:\n",
        "        #   return silhouette_coefs, choosen_indices\n",
        "\n",
        "        #return silhouette_coefs\n",
        "\n",
        "        #return np.mean(silhouette_coefs)\n",
        "        return metrics.silhouette_score(self.data,self.labels, metric='euclidean')\n",
        "\n",
        "\n",
        "    def calinski_harabaz_score(self) :\n",
        "        \"\"\"Calinski-Harabasz index (sklearn)\n",
        "        rule : max\n",
        "\n",
        "        References: [1] http://scikit-learn.org/stable/modules/generated/sklearn.metrics\n",
        "                    [2] Clustering Indices, Bernard Desgraupes (April 2013)\n",
        "        \"\"\"\n",
        "        return ((self.n_samples - self.n_clusters)/(self.n_clusters - 1)) * (self.BGSS/self.WGSS)\n",
        "        #return metrics.calinski_harabaz_score(self.data,self.labels)\n",
        "\n",
        "    def c_index(self):\n",
        "        \"\"\"C-index :    range [0,1]\n",
        "                        rule : min\n",
        "        \"\"\"\n",
        "        Sw = 0.\n",
        "        Nk = int((np.sum(self.clusters_size**2) - self.n_samples)//2)\n",
        "\n",
        "        Tk = int(self.n_samples*(self.n_samples-1)//2)\n",
        "\n",
        "        s_min_max_array = np.empty(Tk)\n",
        "\n",
        "        #parse through all pair of points\n",
        "        index = 0\n",
        "        for data1_index, data2_index in combinations(range(self.n_samples),2):\n",
        "            #pre-computing distances\n",
        "            distance = euclidean_distance(self.data[data1_index],self.data[data2_index])\n",
        "\n",
        "            if self.labels[data1_index] == self.labels[data2_index]:\n",
        "                Sw += distance\n",
        "\n",
        "            s_min_max_array[index] = distance\n",
        "            index += 1\n",
        "\n",
        "            #print(str(data1_index)+\"  \"+str(data2_index    )+\"completed\")\n",
        "        s_min_max_array.sort()\n",
        "\n",
        "        s_min = np.sum(s_min_max_array[:Nk])\n",
        "        s_max = np.sum(s_min_max_array[Tk-Nk:])\n",
        "\n",
        "        #print(Sw,s_min_max_array.k_largest,s_min_max_array.k_smallest)\n",
        "        return (Sw - s_min)/(s_max - s_min)\n",
        "\n",
        "    def dunn_index(self):\n",
        "        \"\"\"Dunn index -- ratio between the minimal intracluster distance to maximal intercluster distance\n",
        "        Note : computationally expensive and sensitive to noisy data\n",
        "\n",
        "        References :    [1] https://www.biomedcentral.com/content/supplementary/1471-2105-9-90-S2.pdf\n",
        "\n",
        "        range : [0,infinity) | rule : max\n",
        "        \"\"\"\n",
        "        max_intra_cluster = min_inter_cluster = euclidean_distance(self.data[0],self.data[1])\n",
        "\n",
        "        #parse through all pair of points\n",
        "        for data1_index,data2_index in combinations(range(self.n_samples),2):\n",
        "            distance = euclidean_distance(self.data[data1_index],self.data[data2_index])\n",
        "\n",
        "            #both are same cluster\n",
        "            if (self.labels[data1_index] == self.labels[data2_index]) and (distance > max_intra_cluster):\n",
        "                max_intra_cluster = distance\n",
        "\n",
        "            elif (self.labels[data1_index] != self.labels[data2_index]) and (distance < min_inter_cluster):\n",
        "                min_inter_cluster = distance\n",
        "            if(max_intra_cluster <=0):\n",
        "                return 0\n",
        "        return min_inter_cluster/max_intra_cluster\n",
        "\n",
        "    def davies_bouldin_index(self):\n",
        "        \"\"\" Davies-Bouldin index -- Small values of DB correspond to clusters that are compact, and whose\n",
        "            centers are far away from each other.\n",
        "\n",
        "            References :    [1] https://www.biomedcentral.com/content/supplementary/1471-2105-9-90-S2.pdf\n",
        "                            [2] https://en.wikipedia.org/wiki/Davies%E2%80%93Bouldin_index\n",
        "                            [3] https://pdfs.semanticscholar.org/9701/405b0d601e169636a2541940a070087acd5b.pdf\n",
        "        \"\"\"\n",
        "\n",
        "        total_clusters_dispersion = np.zeros(self.n_clusters)\n",
        "\n",
        "        for data_index in range(self.n_samples):\n",
        "\n",
        "            total_clusters_dispersion[self.labels[data_index]] += euclidean_distance(self.data[data_index],self.clusters_mean[self.labels[data_index]])\n",
        "\n",
        "\n",
        "        mean_clusters_dispersion = total_clusters_dispersion / self.clusters_size\n",
        "        #mean_clusters_dispersion = np.sqrt(self.WGSS_clusters/self.clusters_size)\n",
        "\n",
        "        sum_Mk = 0.\n",
        "\n",
        "        for cluster_i in range(self.n_clusters):\n",
        "            max_Mk = 0.\n",
        "            for cluster_j in range(self.n_clusters):\n",
        "                if cluster_i != cluster_j :\n",
        "                    Mk = (mean_clusters_dispersion[cluster_i] + mean_clusters_dispersion[cluster_j])/euclidean_distance(self.clusters_mean[cluster_i],self.clusters_mean[cluster_j])\n",
        "                    if Mk > max_Mk :\n",
        "                        max_Mk = Mk\n",
        "\n",
        "            sum_Mk += max_Mk\n",
        "\n",
        "        return sum_Mk/self.n_clusters\n",
        "\n",
        "    def ray_turi_index(self):\n",
        "        \"\"\"\n",
        "        Ray-Turi Index\n",
        "        References  :   [1] Clustering Indices, Bernard Desgraupes (April 2013)\n",
        "        \"\"\"\n",
        "        min_cluster_mean_diff = euclidean_distance(self.clusters_mean[0],self.clusters_mean[1],squared=True)\n",
        "        for cluster_mean1,cluster_mean2 in combinations(self.clusters_mean,2):\n",
        "            mean_diff = euclidean_distance(cluster_mean1,cluster_mean2,squared=True)\n",
        "            if mean_diff < min_cluster_mean_diff:\n",
        "                min_cluster_mean_diff = mean_diff\n",
        "\n",
        "        return self.WGSS/(min_cluster_mean_diff*self.n_samples)\n",
        "\n",
        "    def hartigan_index(self):\n",
        "        \"\"\"\n",
        "        Hartigan Index : generally used to find no. cluster in a dataset (used only for K-Means Algorithm)\n",
        "        Optimum number of clusters : K for which Hartigan(K) <= n (usually, n=10)\n",
        "\n",
        "        References :    [1] http://suendermann.com/su/pdf/ijcbs2009.pdf\n",
        "        \"\"\"\n",
        "\n",
        "        no_clusters = self.n_clusters+1\n",
        "\n",
        "        #perfrom Kmeans of the data with K+1 clusters\n",
        "        kmeans_clusterer=KMeans(n_clusters=no_clusters)\n",
        "        labels = kmeans_clusterer.fit_predict(self.data)\n",
        "\n",
        "        total_dispersion = 0.\n",
        "\n",
        "        for cluster_i in range(no_clusters):\n",
        "            cluster_i_pts = self.data[(labels==cluster_i)]\n",
        "            cluster_i_mean = np.mean(cluster_i_pts)\n",
        "\n",
        "            cluster_i_dispersion = np.sum((cluster_i_pts - cluster_i_mean)**2)\n",
        "            total_dispersion += cluster_i_dispersion\n",
        "\n",
        "        return (self.n_samples-self.n_clusters-1)*(self.WGSS-total_dispersion)/total_dispersion\n",
        "\n",
        "    def pbm_index(self):\n",
        "        \"\"\"Maulik-Bandyopadhyay index (aka. I-index, PBM Index)\n",
        "\n",
        "        References  :   [1] https://pdfs.semanticscholar.org/9701/405b0d601e169636a2541940a070087acd5b.pdf\n",
        "                        [2] Clustering Indices, Bernard Desgraupes (April 2013)\n",
        "                        [3] ClusterCrit: https://cran.r-project.org/web/packages/clusterCrit/vignettes/clusterCrit.pdf\n",
        "\n",
        "        Maulik, U., Bandyopadhyay, S.: Performance evaluation of some clustering algorithms and validity indices. IEEE Transactions Pattern Analysis Machine Intelligence 24(12) (2002) 1650–1654\n",
        "\n",
        "        rule : max\n",
        "        \"\"\"\n",
        "        max_DB = 0.\n",
        "        for cluster_i,cluster_j in combinations(range(self.n_clusters),2):\n",
        "            DB = euclidean_distance(self.clusters_mean[cluster_i],self.clusters_mean[cluster_j])\n",
        "            if DB > max_DB:\n",
        "                max_DB = DB\n",
        "\n",
        "        Ew,Et = 0.,0.\n",
        "        for data_index in range(self.n_samples):\n",
        "            Ew += euclidean_distance(self.data[data_index],self.clusters_mean[self.labels[data_index]])\n",
        "            Et += euclidean_distance(self.data[data_index],self.data_mean)\n",
        "        if ((self.n_clusters * Ew) == 0):\n",
        "            return (1e-20)\n",
        "        return np.power((Et * max_DB)/(self.n_clusters * Ew),2)\n",
        "\n",
        "    def score_function(self):\n",
        "        \"\"\"Score Function - SF : works good for hyper-speriodal data\n",
        "\n",
        "        References :    [1] https://pdfs.semanticscholar.org/9701/405b0d601e169636a2541940a070087acd5b.PDF\n",
        "\n",
        "        range : ]0,1[ | rule : max\n",
        "        \"\"\"\n",
        "        #is centroid of all clusters = data_mean\n",
        "        bcd = np.sum(np.sqrt(np.sum((self.clusters_mean - self.data_mean)**2,axis=1))*self.clusters_size)/(self.n_clusters*self.n_samples)\n",
        "\n",
        "        #print(bcd)\n",
        "\n",
        "        clusters_dispersion = np.zeros(self.n_clusters)\n",
        "        for data_index in range(self.n_samples):\n",
        "            clusters_dispersion[self.labels[data_index]] += euclidean_distance(self.data[data_index],self.clusters_mean[self.labels[data_index]])\n",
        "\n",
        "        wcd = np.sum(clusters_dispersion / self.clusters_size)\n",
        "        #print(wcd)\n",
        "        return (1 - 1/np.exp(np.exp(bcd - wcd)))\n",
        "\n",
        "    # internal indices -- end\n",
        "\n",
        "# helper functions -- start\n",
        "def total_scatter_matrix(data):\n",
        "    \"\"\"\n",
        "    Total sum of square (TSS) : sum of squared distances of points around the baycentre\n",
        "    References : Clustering Indices, Bernard Desgraupes (April 2013)\n",
        "    \"\"\"\n",
        "    X=np.array(data.T.copy(),dtype=np.float64)\n",
        "\n",
        "    for feature_i in range(data.shape[1]):\n",
        "        X[feature_i] = X[feature_i] - np.mean(X[feature_i])\n",
        "\n",
        "    T = np.dot(X,X.T)\n",
        "    return T\n",
        "\n",
        "def euclidean_distance(vector1,vector2,squared=False):\n",
        "    \"\"\"calculates euclidean distance between two vectors\n",
        "\n",
        "    Keyword arguments:\n",
        "    vector1 -- first data point (type: numpy array)\n",
        "    vector2 -- second data point (type: numpy array)\n",
        "    squared -- return square of euclidean distance (default: False)\n",
        "    \"\"\"\n",
        "    euclidean_distance=np.sum((vector1-vector2)**2)\n",
        "\n",
        "    if squared is False:\n",
        "        euclidean_distance=sqrt(euclidean_distance)\n",
        "\n",
        "    return euclidean_distance\n",
        "\n",
        "# helper functions -- end\n",
        "\n",
        "\n",
        "INTERNAL_INDICES_METHOD_NAMES_DICT = {\n",
        "    'WGSS' : 'wgss_index',\n",
        "    'BGSS': 'bgss_index',\n",
        "    'Ball-Hall' : 'ball_hall_index',\n",
        "    'Banfeld-Raftery' : 'banfeld_raftery_index',\n",
        "    'Det-Ratio' : 'det_ratio_index',\n",
        "    'Ksq-DetW' : 'ksq_detw_index',\n",
        "    'Log-Det-Ratio' : 'log_det_ratio_index',\n",
        "    'Log-SS-Ratio' : 'log_ss_ratio_index',\n",
        "    'Scott-Symons' : 'scott_symons_index',\n",
        "    'Trace-WiB' : 'trace_wib_index',\n",
        "    'Silhouette' : 'silhouette_score',\n",
        "    'Calinski-Harabasz' : 'calinski_harabaz_score',\n",
        "    'C' : 'c_index',\n",
        "    'Dunn' : 'dunn_index',\n",
        "    'Davies-Bouldin' : 'davies_bouldin_index',\n",
        "    'Ray-Turi' : 'ray_turi_index',\n",
        "    'Hartigan' : 'hartigan_index',\n",
        "    'PBM' : 'pbm_index',\n",
        "    'Score' : 'score_function'\n",
        "}"
      ],
      "metadata": {
        "id": "kXkjG7iFWD25"
      },
      "execution_count": null,
      "outputs": []
    },
    {
      "cell_type": "code",
      "source": [
        "img=pd.read_csv('img.csv',skipinitialspace=True)\n",
        "img=img.reset_index()\n",
        "# img.rename(columns ={\"0\":0,\"1\":1,\"2\":2},inplace=True)"
      ],
      "metadata": {
        "id": "itBxc2GcWMlJ"
      },
      "execution_count": null,
      "outputs": []
    },
    {
      "cell_type": "markdown",
      "source": [
        "For DBSCAN"
      ],
      "metadata": {
        "id": "uVh_cgwpWRzb"
      }
    },
    {
      "cell_type": "code",
      "source": [
        "internal_validation = InternalIndices(img[['0','1','2','x','y']],img['dbscan'])\n",
        "db_index_method = getattr(internal_validation, INTERNAL_INDICES_METHOD_NAMES_DICT['Davies-Bouldin'])\n",
        "ch_index_method = getattr(internal_validation, INTERNAL_INDICES_METHOD_NAMES_DICT['Calinski-Harabasz'])\n",
        "silhouette_index_method = getattr(internal_validation, INTERNAL_INDICES_METHOD_NAMES_DICT['Silhouette'])\n",
        "ball_index_method = getattr(internal_validation, INTERNAL_INDICES_METHOD_NAMES_DICT['Ball-Hall'])\n",
        "Ray_turi_index_method = getattr(internal_validation, INTERNAL_INDICES_METHOD_NAMES_DICT['Ray-Turi'])\n",
        "print(\"DB Score: \",db_index_method())\n",
        "print(\"CH Score: \",ch_index_method())\n",
        "print(\"Silhouette Score: \",silhouette_index_method())\n",
        "print(\"Ball Hall Index: \",ball_index_method())\n",
        "print(\"Ray Turi Index: \",Ray_turi_index_method())"
      ],
      "metadata": {
        "colab": {
          "base_uri": "https://localhost:8080/"
        },
        "id": "jxOZiv5DWIMp",
        "outputId": "fc80afac-0ebe-48d6-968c-44fdeab1038e"
      },
      "execution_count": null,
      "outputs": [
        {
          "output_type": "stream",
          "name": "stdout",
          "text": [
            "DB Score:  1.556546511698928\n",
            "CH Score:  41.97038271495219\n",
            "Silhouette Score:  -0.6233007643705671\n",
            "Ball Hall Index:  103.29646511465307\n",
            "Ray Turi Index:  271.1396013796235\n"
          ]
        }
      ]
    },
    {
      "cell_type": "markdown",
      "source": [
        "For K-Means"
      ],
      "metadata": {
        "id": "Eeq_9Z6yWUNB"
      }
    },
    {
      "cell_type": "code",
      "source": [
        "internal_validation = InternalIndices(img[['0','1','2','x','y']],img['kmeans'])\n",
        "db_index_method = getattr(internal_validation, INTERNAL_INDICES_METHOD_NAMES_DICT['Davies-Bouldin'])\n",
        "ch_index_method = getattr(internal_validation, INTERNAL_INDICES_METHOD_NAMES_DICT['Calinski-Harabasz'])\n",
        "silhouette_index_method = getattr(internal_validation, INTERNAL_INDICES_METHOD_NAMES_DICT['Silhouette'])\n",
        "ball_index_method = getattr(internal_validation, INTERNAL_INDICES_METHOD_NAMES_DICT['Ball-Hall'])\n",
        "Ray_turi_index_method = getattr(internal_validation, INTERNAL_INDICES_METHOD_NAMES_DICT['Ray-Turi'])\n",
        "print(\"DB Score: \",db_index_method())\n",
        "print(\"CH Score: \",ch_index_method())\n",
        "print(\"Silhouette Score: \",silhouette_index_method())\n",
        "print(\"Ball Hall Index: \",ball_index_method())\n",
        "print(\"Ray Turi Index: \",Ray_turi_index_method())"
      ],
      "metadata": {
        "colab": {
          "base_uri": "https://localhost:8080/"
        },
        "id": "vObw9JTfWWPB",
        "outputId": "b297d2ab-5e74-4a1e-80cd-35d96132d504"
      },
      "execution_count": null,
      "outputs": [
        {
          "output_type": "stream",
          "name": "stdout",
          "text": [
            "DB Score:  0.9522680065030122\n",
            "CH Score:  32205.79038963895\n",
            "Silhouette Score:  0.30798783090430665\n",
            "Ball Hall Index:  324.5943784368734\n",
            "Ray Turi Index:  0.4389152407883562\n"
          ]
        }
      ]
    },
    {
      "cell_type": "code",
      "source": [
        "import numpy as np\n",
        "from sklearn.metrics.pairwise import pairwise_distances\n",
        "\n",
        "def ray_turi_index(X, labels):\n",
        "    \"\"\"\n",
        "    Calculates the Ray-Turi Index for a clustering with 5-dimensional data points.\n",
        "\n",
        "    Parameters:\n",
        "    X (numpy array): The data points with shape (n_samples, n_features).\n",
        "    labels (numpy array): The labels for each data point with shape (n_samples,).\n",
        "\n",
        "    Returns:\n",
        "    The Ray-Turi Index for the clustering.\n",
        "    \"\"\"\n",
        "    n_clusters = len(np.unique(labels))\n",
        "    centroids = np.zeros((n_clusters, X.shape[1]))\n",
        "\n",
        "    for i in range(n_clusters):\n",
        "        mask = labels == i\n",
        "        centroids[i] = X[mask].mean(axis=0)\n",
        "\n",
        "    within_cluster_distances = np.zeros(n_clusters)\n",
        "    between_cluster_distances = 0\n",
        "\n",
        "    for i in range(n_clusters):\n",
        "        mask = labels == i\n",
        "        cluster_distances = pairwise_distances(X[mask], [centroids[i]], metric='euclidean')\n",
        "        within_cluster_distances[i] = np.mean(cluster_distances)\n",
        "\n",
        "    between_cluster_distances = pairwise_distances(centroids, metric='euclidean').mean()\n",
        "\n",
        "    return np.mean(within_cluster_distances) / between_cluster_distances\n"
      ],
      "metadata": {
        "id": "Nn7TA4goMbdM"
      },
      "execution_count": null,
      "outputs": []
    },
    {
      "cell_type": "code",
      "source": [
        "img['dbscan'].min()"
      ],
      "metadata": {
        "colab": {
          "base_uri": "https://localhost:8080/"
        },
        "id": "j9vKA0Ma9IYA",
        "outputId": "97357a97-74e3-4756-c6bf-bd47515dc9e0"
      },
      "execution_count": null,
      "outputs": [
        {
          "output_type": "execute_result",
          "data": {
            "text/plain": [
              "-1"
            ]
          },
          "metadata": {},
          "execution_count": 7
        }
      ]
    },
    {
      "cell_type": "code",
      "source": [
        "ray_turi_index(img[['0','1','2','x','y']],np.array(img['dbscan'])+1)"
      ],
      "metadata": {
        "colab": {
          "base_uri": "https://localhost:8080/"
        },
        "id": "THwzYg4w83y-",
        "outputId": "ef377afe-4bd3-4f1e-a0c6-bda43e9c3fb3"
      },
      "execution_count": null,
      "outputs": [
        {
          "output_type": "execute_result",
          "data": {
            "text/plain": [
              "0.02574928695894624"
            ]
          },
          "metadata": {},
          "execution_count": 11
        }
      ]
    },
    {
      "cell_type": "code",
      "source": [
        "ray_turi_index(img[['0','1','2','x','y']],img['kmeans'])"
      ],
      "metadata": {
        "colab": {
          "base_uri": "https://localhost:8080/"
        },
        "id": "UjDygipL83eW",
        "outputId": "03f26956-99ae-4f9c-bfde-4d83bab64e06"
      },
      "execution_count": null,
      "outputs": [
        {
          "output_type": "execute_result",
          "data": {
            "text/plain": [
              "0.18244349497058285"
            ]
          },
          "metadata": {},
          "execution_count": 12
        }
      ]
    }
  ]
}